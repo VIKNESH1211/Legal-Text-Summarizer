{
 "cells": [
  {
   "cell_type": "code",
   "execution_count": 3,
   "metadata": {},
   "outputs": [],
   "source": [
    "from transformers import PegasusForConditionalGeneration, PegasusTokenizer\n",
    "from transformers import AutoTokenizer, AutoModelForSeq2SeqLM\n",
    "model = AutoModelForSeq2SeqLM.from_pretrained(\"AlekseyKulnevich/Pegasus-Summarization\")\n",
    "tokenizer = PegasusTokenizer.from_pretrained('google/pegasus-large')\n"
   ]
  },
  {
   "cell_type": "code",
   "execution_count": 4,
   "metadata": {},
   "outputs": [],
   "source": [
    "input_text = '''This agreement entered into on this Date by and between Party A hereinafter referred to as the Seller and Party B hereinafter referred to as the Buyer collectively referred to as the Parties This agreement pertains to the sale and transfer of ownership of the real property commonly known as Property Address including all improvements fixtures and appurtenances therein as legally described in Exhibit A attached hereto The Parties acknowledge that this transaction is subject to all applicable laws rules and regulations governing real property transactions within the jurisdiction where the property is located The Buyer agrees to purchase the property in its current as-is condition with no warranties express or implied as to its condition habitability or suitability for any particular purpose except as otherwise specified in this agreement The purchase price for the property is hereby set at Purchase Price payable as follows Payment Terms The Buyer shall provide a deposit of Deposit Amount upon the signing of this agreement to be held in escrow by a mutually agreed-upon escrow agent with the'''\n",
    "input_ = tokenizer.batch_encode_plus([input_text], max_length=1024, pad_to_max_length=True, \n",
    "                truncation=True, padding='longest', return_tensors='pt')\n",
    "input_ids = input_['input_ids'] \n",
    "input_mask = input_['attention_mask']\n",
    "summary = model.generate(input_ids=input_ids, \n",
    "                         attention_mask=input_mask, \n",
    "                         num_beams=32, \n",
    "                         min_length=100,\n",
    "                         no_repeat_ngram_size=2, \n",
    "                         early_stopping=True, \n",
    "                         num_return_sequences=10)\n",
    "questions = tokenizer.batch_decode(summary, skip_special_tokens=True)"
   ]
  },
  {
   "cell_type": "code",
   "execution_count": 5,
   "metadata": {},
   "outputs": [
    {
     "name": "stdout",
     "output_type": "stream",
     "text": [
      "['This agreement is subject to all applicable laws and regulations governing real property transactions in the jurisdiction where the property is located, including the sale and transfer of ownership to the Buyer in accordance with the terms and conditions set forth in Exhibit A attached hereto. The Buyer agrees to pay a deposit of the purchase price to be held in escrow by a mutually agreed-upon escrow agent for a period of 12 months from the closing date of this agreement to ensure that the transaction is completed in compliance with all relevant laws.', 'This agreement is subject to all applicable laws and regulations governing real property transactions in the jurisdiction where the property is located, including the sale and transfer of ownership to the Buyer in accordance with the terms and conditions set forth in Exhibit A attached hereto. The Buyer agrees to pay a deposit of the purchase price to be held in escrow by a mutually agreed-upon escrow agent for a period of three years from the closing date of this agreement to ensure that the transaction is completed in compliance with all relevant laws.', 'This agreement is subject to all applicable laws and regulations governing real property transactions in the jurisdiction where the property is located, including the sale and transfer of ownership to the Buyer in accordance with the terms and conditions set forth in Exhibit A attached hereto. The Buyer agrees to pay a deposit of the purchase price to be held in escrow by a mutually agreed-upon escrow agent for a period of 12 months from the closing date of this agreement to ensure that the transaction is completed in compliance with any applicable law or regulation.', 'This agreement is subject to all applicable laws and regulations governing real property transactions in the jurisdiction where the property is located, including the sale and transfer of ownership to the Buyer in accordance with the terms and conditions set forth in Exhibit A attached hereto. The Buyer agrees to pay a deposit of the purchase price to be held in escrow by a mutually agreed-upon escrow agent for a period of 12 months from the closing date of this agreement to ensure that the transaction is completed in compliance with any applicable law or regulations.', 'This agreement is subject to all applicable laws and regulations governing real property transactions in the jurisdiction where the property is located, including the sale and transfer of ownership to the Buyer in accordance with the terms and conditions set forth in Exhibit A attached hereto. The Buyer agrees to pay a deposit of the purchase price to be held in escrow by a mutually agreed-upon escrow agent for a period of 12 months from the closing date of this agreement to ensure that the transaction is completed in compliance with all relevant laws, regulations and rules.', 'This agreement is subject to all applicable laws and regulations governing real property transactions in the jurisdiction where the property is located, including the sale and transfer of ownership to the Buyer in accordance with the terms and conditions set forth in Exhibit A attached hereto. The Buyer agrees to pay a deposit of the purchase price to be held in escrow by a mutually agreed-upon escrow agent for a period of 12 months from the closing date of this agreement to ensure that the transaction is completed in compliance with all relevant laws, regulations and laws.', 'This agreement is subject to all applicable laws and regulations governing real property transactions in the jurisdiction where the property is located, including the sale and transfer of ownership to the Buyer in accordance with the terms and conditions set forth in Exhibit A attached hereto. The Buyer agrees to pay a deposit of the purchase price to be held in escrow by a mutually agreed-upon escrow agent for a period of three years from the closing date of this agreement to ensure that the transaction is completed in compliance with all relevant laws, regulations and rules.', 'This agreement is subject to all applicable laws and regulations governing real property transactions in the jurisdiction where the property is located, including the sale and transfer of ownership to the Buyer in accordance with the terms and conditions set forth in Exhibit A attached hereto. The Buyer agrees to pay a deposit of the purchase price to be held in escrow by a mutually agreed-upon escrow agent for a period of two years from the closing date of this agreement to ensure that the transaction is completed in compliance with all relevant laws, regulations and rules.', 'This agreement is subject to all applicable laws and regulations governing real property transactions in the jurisdiction where the property is located, including the sale and transfer of ownership to the Buyer in accordance with the terms and conditions set forth in Exhibit A attached hereto. The Buyer agrees to pay a deposit of the purchase price to be held in escrow by a mutually agreed-upon escrow agent for a period of three years from the closing date of this agreement to ensure that the transaction is completed in compliance with all relevant laws, regulations and laws.', 'This agreement is subject to all applicable laws and regulations governing real property transactions in the jurisdiction where the property is located, including the sale and transfer of ownership to the Buyer in accordance with the terms and conditions set forth in Exhibit A attached hereto. The Buyer agrees to pay a deposit of the purchase price to be held in escrow by a mutually agreed-upon escrow agent for a period of 12 months from the closing date of this agreement to ensure that the transaction is completed in compliance with all relevant laws, regulations and rules governing the real estate transaction.']\n"
     ]
    }
   ],
   "source": [
    "print(questions)"
   ]
  },
  {
   "cell_type": "code",
   "execution_count": 16,
   "metadata": {},
   "outputs": [
    {
     "name": "stdout",
     "output_type": "stream",
     "text": [
      "[{'summary_text': \"Sugi: I am tired of everything in my become animated.Tommy: How happy your become animated is! I do envy you. Sugi: You don't understand as position (something) so as to make it balanced, level, or square that I talk at great make or become longer.\"}]\n"
     ]
    }
   ],
   "source": [
    "from transformers import pipeline\n",
    "import pandas as pd\n",
    "import re\n",
    "\n",
    "summarizer = pipeline(\"summarization\", model=\"facebook/bart-large-cnn\")\n",
    "\n",
    "# Define your conversation\n",
    "conversation = '''Sugi: I am tired of everything in my life. \n",
    "Tommy: What? How happy your life is! I do envy you.\n",
    "Sugi: You don't know that I have been over-protected by my mother these years. I am really about to leave the family and spread my wings.\n",
    "Tommy: Maybe you are right.                                           \n",
    "'''\n",
    "\n",
    "# Load the legal dictionary from an Excel file\n",
    "legal_dict = pd.read_excel('DIC.xlsx')\n",
    "\n",
    "# Convert the legal dictionary into a dictionary for easy lookup\n",
    "legal_to_civilian = dict(zip(legal_dict['WORD'], legal_dict['MEANING']))\n",
    "\n",
    "# Function to convert legal text to civilian language\n",
    "def legal_to_civilian_language(legal_text):\n",
    "    # Replace legal terms with civilian language equivalents\n",
    "    for term, civilian_term in legal_to_civilian.items():\n",
    "        legal_text = re.sub(r'\\b{}\\b'.format(re.escape(term)), civilian_term, legal_text)\n",
    "\n",
    "    return legal_text\n",
    "\n",
    "civ_conversation = legal_to_civilian_language(conversation)\n",
    "\n",
    "\n",
    "# Use the summarizer to generate a summary\n",
    "summary = summarizer(civ_conversation)\n",
    "print(summary)\n"
   ]
  },
  {
   "cell_type": "code",
   "execution_count": 19,
   "metadata": {},
   "outputs": [
    {
     "name": "stdout",
     "output_type": "stream",
     "text": [
      "Sugi: I am tired of everything in my become animated.Tommy: How happy your become animated is! I do envy you. Sugi: You don't understand as position (something) so as to make it balanced, level, or square that I talk at great make or become longer.\n"
     ]
    }
   ],
   "source": [
    "\n",
    "# Check if data is a list with at least one element\n",
    "if isinstance(summary, list) and len(summary) > 0:\n",
    "    # Access the first element (in this case, there's only one element)\n",
    "    first_element = summary[0]\n",
    "\n",
    "    # Check if the 'summary_text' key exists in the dictionary and if it's a string\n",
    "    if 'summary_text' in first_element and isinstance(first_element['summary_text'], str):\n",
    "        summary_text = first_element['summary_text']\n",
    "        print(summary_text)\n",
    "    else:\n",
    "        print(\"Value for 'summary_text' not found or not a string\")\n",
    "else:\n",
    "    print(\"Data is empty or not a list\")"
   ]
  },
  {
   "cell_type": "code",
   "execution_count": null,
   "metadata": {},
   "outputs": [],
   "source": []
  }
 ],
 "metadata": {
  "kernelspec": {
   "display_name": "base",
   "language": "python",
   "name": "python3"
  },
  "language_info": {
   "codemirror_mode": {
    "name": "ipython",
    "version": 3
   },
   "file_extension": ".py",
   "mimetype": "text/x-python",
   "name": "python",
   "nbconvert_exporter": "python",
   "pygments_lexer": "ipython3",
   "version": "3.9.12"
  },
  "orig_nbformat": 4
 },
 "nbformat": 4,
 "nbformat_minor": 2
}
